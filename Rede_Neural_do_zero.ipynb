{
  "nbformat": 4,
  "nbformat_minor": 0,
  "metadata": {
    "colab": {
      "provenance": [],
      "authorship_tag": "ABX9TyM48y1oOrS3k9KmJq2ThuRS",
      "include_colab_link": true
    },
    "kernelspec": {
      "name": "python3",
      "display_name": "Python 3"
    },
    "language_info": {
      "name": "python"
    }
  },
  "cells": [
    {
      "cell_type": "markdown",
      "metadata": {
        "id": "view-in-github",
        "colab_type": "text"
      },
      "source": [
        "<a href=\"https://colab.research.google.com/github/alinecorreia22/Deep-Learning-do-zero-em-Python/blob/main/Rede_Neural_do_zero.ipynb\" target=\"_parent\"><img src=\"https://colab.research.google.com/assets/colab-badge.svg\" alt=\"Open In Colab\"/></a>"
      ]
    },
    {
      "cell_type": "markdown",
      "source": [
        "# ***Deep Leaening ***\n",
        "\n",
        "Rede Neural para reconher digitos"
      ],
      "metadata": {
        "id": "MPFvTjIF95eC"
      }
    },
    {
      "cell_type": "code",
      "execution_count": 44,
      "metadata": {
        "id": "dCWfMlgapS7J"
      },
      "outputs": [],
      "source": [
        "import numpy as np\n",
        "import torch\n",
        "import torch.nn.functional as F\n",
        "import torchvision\n",
        "import matplotlib.pyplot as plt\n",
        "from time import time\n",
        "from torchvision import datasets, transforms\n",
        "from torch import nn, optim"
      ]
    },
    {
      "cell_type": "code",
      "source": [
        "transform = transforms.ToTensor() #definido a conversão de imagem para tensor\n",
        "\n",
        "trainset = datasets.MNIST('./MNIST_data/', download=True, train=True, transform=transform) #carregar a parte de treino do dataset\n",
        "trainloader = torch.utils.data.DataLoader(trainset, batch_size=64, shuffle=True) #cria um buffer para pegar os dados por partes\n",
        "\n",
        "valset= datasets.MNIST ('./MNIST_data/', download=True, train=False, transform=transform) #carrega a parte de validação do dataset\n",
        "valloader = torch.utils.data.DataLoader(valset, batch_size=64, shuffle=True) #Cria um buffer para pegar os dados por parte"
      ],
      "metadata": {
        "id": "wz7HbtWmpXJM"
      },
      "execution_count": 45,
      "outputs": []
    },
    {
      "cell_type": "code",
      "source": [
        "dataiter = iter(trainloader.__iter__())\n",
        "imagens, etiquetas = next(dataiter)\n",
        "plt.imshow(imagens[0].numpy().squeeze(), cmap='gray_r');"
      ],
      "metadata": {
        "colab": {
          "base_uri": "https://localhost:8080/",
          "height": 430
        },
        "id": "SSci4Bulpidy",
        "outputId": "d223a485-238c-4378-9781-2f46f8399e8b"
      },
      "execution_count": 46,
      "outputs": [
        {
          "output_type": "display_data",
          "data": {
            "text/plain": [
              "<Figure size 640x480 with 1 Axes>"
            ],
            "image/png": "[encoded data removed]"
          },
          "metadata": {}
        }
      ]
    },
    {
      "cell_type": "code",
      "source": [
        "print(imagens[0].shape) #verificar as dimensões do tensor de cada imagem\n",
        "print(etiquetas[0].shape) #verificar as dimensões do tensor de cada etiqueta\n"
      ],
      "metadata": {
        "colab": {
          "base_uri": "https://localhost:8080/"
        },
        "id": "m2607bzDrCDF",
        "outputId": "068a236e-8dd2-40b6-c68b-b4f8c6d856da"
      },
      "execution_count": 47,
      "outputs": [
        {
          "output_type": "stream",
          "name": "stdout",
          "text": [
            "torch.Size([1, 28, 28])\n",
            "torch.Size([])\n"
          ]
        }
      ]
    },
    {
      "cell_type": "code",
      "source": [
        "class Modelo(nn.Module):\n",
        "    def __init__(self):\n",
        "        super(Modelo, self).__init__()\n",
        "        self.linear1 = nn.Linear(28*28, 128) # camada de entrada, 784 neurônios que se ligam a 128\n",
        "        self.linear2 = nn.Linear(128, 64)    # camada interna 1, 128 neurônios que se ligam a 64\n",
        "        self.linear3 = nn.Linear(64, 10)     # camada interna 2, 64 neurônios que se ligam a 10\n",
        "\n",
        "    def forward(self, x):\n",
        "        x = F.relu(self.linear1(x)) # função de ativação da camada de entrada para a camada interna 1\n",
        "        x = F.relu(self.linear2(x)) # função de ativação da camada interna 1 para a camada interna 2\n",
        "        x = self.linear3(x)         # função de ativação da camada interna 2 para a camada de saída\n",
        "        return F.log_softmax(x, dim=1) # aplicação da função de ativação log_softmax para obter a saída\n"
      ],
      "metadata": {
        "id": "arLrUxFLr4gG"
      },
      "execution_count": 48,
      "outputs": []
    },
    {
      "cell_type": "code",
      "source": [
        "import torch\n",
        "import torch.nn as nn\n",
        "import torch.optim as optim\n",
        "import torch.nn.functional as F\n",
        "from time import time\n",
        "\n",
        "def treino(modelo, trainloader, device):\n",
        "    otimizador = optim.SGD(modelo.parameters(), lr=0.01, momentum=0.5)\n",
        "    inicio = time()\n",
        "\n",
        "    criterio = nn.NLLLoss()\n",
        "    EPOCHS = 10\n",
        "    modelo.train()\n",
        "\n",
        "    for epoch in range(EPOCHS):\n",
        "        perda_acumulada = 0\n",
        "\n",
        "        for i, (imagens, etiquetas) in enumerate(trainloader):\n",
        "            imagens = imagens.view(imagens.shape[0], -1)\n",
        "            otimizador.zero_grad()\n",
        "\n",
        "            output = modelo(imagens.to(device))\n",
        "            perda_instantanea = criterio(output, etiquetas.to(device))\n",
        "            perda_instantanea.backward()\n",
        "            otimizador.step()\n",
        "\n",
        "            perda_acumulada += perda_instantanea.item()\n",
        "\n",
        "        print(\"Epoch {} - Perda resultante: {:.4f}\".format(epoch+1, perda_acumulada/len(trainloader)))\n",
        "\n",
        "    print(\"\\nTempo de treino (em minutos) =\", (time()-inicio)/60)\n",
        "\n",
        "# Exemplo de uso:\n",
        "# treino(modelo, trainloader, device=torch.device('cuda' if torch.cuda.is_available() else 'cpu'))\n",
        "\n"
      ],
      "metadata": {
        "id": "olBycDI0u2c5"
      },
      "execution_count": 49,
      "outputs": []
    },
    {
      "cell_type": "code",
      "source": [
        "def validacao(modelo, valloader, device):\n",
        "    conta_corretas, conta_todas = 0, 0\n",
        "\n",
        "    for imagens, etiquetas in valloader:\n",
        "        for i, etiqueta_certa in enumerate(etiquetas):\n",
        "            img = imagens[i].view(1, -1)\n",
        "            with torch.no_grad():\n",
        "                logps = modelo(img.to(device))\n",
        "            ps = torch.exp(logps)\n",
        "            previsao = torch.argmax(ps, dim=1)\n",
        "            if etiqueta_certa == previsao.item():\n",
        "                conta_corretas += 1\n",
        "            conta_todas += 1\n",
        "\n",
        "    precisao = conta_corretas * 100 / conta_todas\n",
        "    print(\"Total de imagens testadas = \", conta_todas)\n",
        "    print(\"\\nPrecisão do modelo = {:.2f}%\".format(precisao))\n",
        "\n",
        "# Exemplo de uso:\n",
        "# validacao(modelo, valloader, device=torch.device('cuda' if torch.cuda.is_available() else 'cpu'))\n"
      ],
      "metadata": {
        "id": "Y6DXXOsK2Lb4"
      },
      "execution_count": 50,
      "outputs": []
    },
    {
      "cell_type": "code",
      "source": [
        "modelo = Modelo()  # inicializar o modelo\n",
        "device = torch.device(\"cuda\" if torch.cuda.is_available() else \"cpu\")  # modelo rodará na GPU se possível\n",
        "modelo.to(device)\n"
      ],
      "metadata": {
        "colab": {
          "base_uri": "https://localhost:8080/"
        },
        "id": "JtiDt4424rr3",
        "outputId": "3c767b0c-fa0a-40bc-984d-9f063e1a9a53"
      },
      "execution_count": 51,
      "outputs": [
        {
          "output_type": "execute_result",
          "data": {
            "text/plain": [
              "Modelo(\n",
              "  (linear1): Linear(in_features=784, out_features=128, bias=True)\n",
              "  (linear2): Linear(in_features=128, out_features=64, bias=True)\n",
              "  (linear3): Linear(in_features=64, out_features=10, bias=True)\n",
              ")"
            ]
          },
          "metadata": {},
          "execution_count": 51
        }
      ]
    }
  ]
}